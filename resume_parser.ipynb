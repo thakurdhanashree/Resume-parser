{
 "cells": [
  {
   "cell_type": "code",
   "execution_count": 1,
   "id": "0eef0f2c",
   "metadata": {},
   "outputs": [],
   "source": [
    "import nltk\n",
    "from nltk.corpus import stopwords\n",
    "from nltk.tokenize import word_tokenize\n",
    "from nltk.stem import WordNetLemmatizer\n",
    "from nltk.corpus import wordnet"
   ]
  },
  {
   "cell_type": "code",
   "execution_count": 2,
   "id": "625d3a37",
   "metadata": {},
   "outputs": [
    {
     "name": "stdout",
     "output_type": "stream",
     "text": [
      "Best candidate: Rahul Singh\n",
      "Qualification: I have experience in machine learning and python.\n"
     ]
    }
   ],
   "source": [
    "def preprocess_text(text):\n",
    "   \n",
    "    tokens = word_tokenize(text.lower())\n",
    "    \n",
    "    \n",
    "    stop_words = set(stopwords.words(\"english\"))\n",
    "    tokens = [token for token in tokens if token not in stop_words]\n",
    "    \n",
    "   \n",
    "    lemmatizer = WordNetLemmatizer()\n",
    "    tokens = [lemmatizer.lemmatize(token) for token in tokens]\n",
    "    \n",
    "    return tokens\n",
    "\n",
    "def calculate_similarity(job_requirements, candidate_qualifications):\n",
    "   \n",
    "    job_requirements = preprocess_text(job_requirements)\n",
    "    candidate_qualifications = preprocess_text(candidate_qualifications)\n",
    "    \n",
    "    \n",
    "    job_synsets = [wordnet.synsets(token) for token in job_requirements]\n",
    "    candidate_synsets = [wordnet.synsets(token) for token in candidate_qualifications]\n",
    "    \n",
    "   \n",
    "    similarity_scores = []\n",
    "    for job_synset in job_synsets:\n",
    "        for candidate_synset in candidate_synsets:\n",
    "            if job_synset and candidate_synset:\n",
    "                similarity = job_synset[0].path_similarity(candidate_synset[0])\n",
    "                if similarity:\n",
    "                    similarity_scores.append(similarity)\n",
    "    \n",
    "   \n",
    "    if similarity_scores:\n",
    "        average_similarity = sum(similarity_scores) / len(similarity_scores)\n",
    "        return average_similarity\n",
    "    else:\n",
    "        return 0\n",
    "\n",
    "def find_best_candidate(job_requirements, candidate_list):\n",
    "    best_candidate = None\n",
    "    highest_similarity = 0\n",
    "    \n",
    "    for candidate in candidate_list:\n",
    "        candidate_qualifications = candidate['qualifications']\n",
    "        similarity = calculate_similarity(job_requirements, candidate_qualifications)\n",
    "        \n",
    "        if similarity > highest_similarity:\n",
    "            highest_similarity = similarity\n",
    "            best_candidate = candidate\n",
    "    \n",
    "    return best_candidate\n",
    "\n",
    "\n",
    "job_requirements = \"We are looking for a candidate with experience in Python and Machine Learning.\"\n",
    "\n",
    "\n",
    "candidate_list = [\n",
    "    {'name': 'Riya Patil', 'qualifications': 'I have  extensive experience in machine learning.'},\n",
    "    {'name': 'Smitha Joy', 'qualifications': 'I have worked on various machine learning projects and I am proficient in Python.'},\n",
    "    {'name': 'Neha Kumavat', 'qualifications': 'I am a Python developer with knowledge of machine learning algorithms.'},\n",
    "    {'name': 'Rahul Singh', 'qualifications': 'I have experience in machine learning and python.'},\n",
    "    {'name': 'Rajesh Verma', 'qualifications': 'I have learned machine learning and Python.'},\n",
    "    {'name': 'Suresh Desai', 'qualifications': 'I have worked on many projects in python.'},\n",
    "    {'name': 'Priyanka Variya', 'qualifications': 'Done Machine Learning Course from IIT delhi and done various python project.'},\n",
    "]\n",
    "\n",
    "\n",
    "best_candidate = find_best_candidate(job_requirements, candidate_list)\n",
    "\n",
    "\n",
    "if best_candidate:\n",
    "    print(\"Best candidate:\", best_candidate['name'])\n",
    "    print(\"Qualification:\", best_candidate['qualifications'])\n",
    "else:\n",
    "    print(\"No suitable candidate found.\")\n"
   ]
  },
  {
   "cell_type": "code",
   "execution_count": null,
   "id": "95d2c37f",
   "metadata": {},
   "outputs": [],
   "source": []
  }
 ],
 "metadata": {
  "kernelspec": {
   "display_name": "Python 3 (ipykernel)",
   "language": "python",
   "name": "python3"
  },
  "language_info": {
   "codemirror_mode": {
    "name": "ipython",
    "version": 3
   },
   "file_extension": ".py",
   "mimetype": "text/x-python",
   "name": "python",
   "nbconvert_exporter": "python",
   "pygments_lexer": "ipython3",
   "version": "3.10.9"
  }
 },
 "nbformat": 4,
 "nbformat_minor": 5
}
